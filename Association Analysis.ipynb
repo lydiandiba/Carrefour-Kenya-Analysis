{
 "cells": [
  {
   "cell_type": "markdown",
   "metadata": {},
   "source": [
    "# Association Analysis"
   ]
  },
  {
   "cell_type": "markdown",
   "metadata": {},
   "source": [
    "## Specifying the question\n",
    "Part 3: Association Rules\n",
    "\n",
    "Create association rules that will allow you to identify relationships between variables in the dataset. Provided dataset comprises of groups of items that will be associated with others. Provide insights for analysis done. Data to use is http://bit.ly/SupermarketDatasetII"
   ]
  },
  {
   "cell_type": "code",
   "execution_count": 1,
   "metadata": {},
   "outputs": [
    {
     "name": "stderr",
     "output_type": "stream",
     "text": [
      "Updating HTML index of packages in '.Library'\n",
      "\n",
      "Making 'packages.html' ...\n",
      " done\n",
      "\n"
     ]
    }
   ],
   "source": [
    "# We first we install the required arules library \n",
    "#\n",
    "install.packages(\"arules\")"
   ]
  },
  {
   "cell_type": "code",
   "execution_count": 2,
   "metadata": {},
   "outputs": [
    {
     "name": "stderr",
     "output_type": "stream",
     "text": [
      "Loading required package: Matrix\n",
      "\n",
      "\n",
      "Attaching package: ‘arules’\n",
      "\n",
      "\n",
      "The following objects are masked from ‘package:base’:\n",
      "\n",
      "    abbreviate, write\n",
      "\n",
      "\n"
     ]
    }
   ],
   "source": [
    "# Loading the arules library\n",
    "#\n",
    "library(arules)"
   ]
  },
  {
   "cell_type": "code",
   "execution_count": 3,
   "metadata": {},
   "outputs": [
    {
     "name": "stderr",
     "output_type": "stream",
     "text": [
      "Warning message in asMethod(object):\n",
      "“removing duplicated items in transactions”\n"
     ]
    },
    {
     "data": {
      "text/plain": [
       "transactions in sparse format with\n",
       " 7501 transactions (rows) and\n",
       " 5729 items (columns)"
      ]
     },
     "metadata": {},
     "output_type": "display_data"
    }
   ],
   "source": [
    "# Loading our transactions dataset from our csv file\n",
    "\n",
    "path <-\"Supermarket_Sales_Dataset II.csv\"\n",
    "\n",
    "Transactions <- read.transactions(path)\n",
    "Transactions"
   ]
  },
  {
   "cell_type": "code",
   "execution_count": 4,
   "metadata": {},
   "outputs": [
    {
     "data": {
      "text/html": [
       "'transactions'"
      ],
      "text/latex": [
       "'transactions'"
      ],
      "text/markdown": [
       "'transactions'"
      ],
      "text/plain": [
       "[1] \"transactions\"\n",
       "attr(,\"package\")\n",
       "[1] \"arules\""
      ]
     },
     "metadata": {},
     "output_type": "display_data"
    }
   ],
   "source": [
    "# Verifying the object's class\n",
    "# ---\n",
    "# This should show us transactions as the type of data that we will need\n",
    "# ---\n",
    "# \n",
    "class(Transactions)"
   ]
  },
  {
   "cell_type": "code",
   "execution_count": 5,
   "metadata": {},
   "outputs": [
    {
     "name": "stdout",
     "output_type": "stream",
     "text": [
      "    items                              \n",
      "[1] {cheese,energy,                    \n",
      "     drink,tomato,                     \n",
      "     fat,                              \n",
      "     flour,yams,cottage,               \n",
      "     grapes,whole,                     \n",
      "     juice,frozen,                     \n",
      "     juice,low,                        \n",
      "     mix,green,                        \n",
      "     oil,                              \n",
      "     shrimp,almonds,avocado,vegetables,\n",
      "     smoothie,spinach,olive,           \n",
      "     tea,honey,salad,mineral,          \n",
      "     water,salmon,antioxydant,         \n",
      "     weat,                             \n",
      "     yogurt,green}                     \n",
      "[2] {burgers,meatballs,eggs}           \n",
      "[3] {chutney}                          \n",
      "[4] {turkey,avocado}                   \n",
      "[5] {bar,whole,                        \n",
      "     mineral,                          \n",
      "     rice,green,                       \n",
      "     tea,                              \n",
      "     water,milk,energy,                \n",
      "     wheat}                            \n"
     ]
    }
   ],
   "source": [
    "# Previewing our first 5 transactions\n",
    "#\n",
    "inspect(Transactions[1:5])"
   ]
  },
  {
   "cell_type": "code",
   "execution_count": 6,
   "metadata": {},
   "outputs": [
    {
     "data": {
      "text/html": [
       "<table>\n",
       "<caption>A data.frame: 10 × 1</caption>\n",
       "<thead>\n",
       "\t<tr><th></th><th scope=col>Item</th></tr>\n",
       "\t<tr><th></th><th scope=col>&lt;fct&gt;</th></tr>\n",
       "</thead>\n",
       "<tbody>\n",
       "\t<tr><th scope=row>1</th><td><span style=white-space:pre-wrap>&amp;                                     </span></td></tr>\n",
       "\t<tr><th scope=row>2</th><td>accessories                           </td></tr>\n",
       "\t<tr><th scope=row>3</th><td>accessories,antioxydant               </td></tr>\n",
       "\t<tr><th scope=row>4</th><td>accessories,champagne,fresh           </td></tr>\n",
       "\t<tr><th scope=row>5</th><td>accessories,champagne,protein         </td></tr>\n",
       "\t<tr><th scope=row>6</th><td>accessories,chocolate                 </td></tr>\n",
       "\t<tr><th scope=row>7</th><td>accessories,chocolate,champagne,frozen</td></tr>\n",
       "\t<tr><th scope=row>8</th><td>accessories,chocolate,frozen          </td></tr>\n",
       "\t<tr><th scope=row>9</th><td>accessories,chocolate,low             </td></tr>\n",
       "\t<tr><th scope=row>10</th><td>accessories,chocolate,pasta,salt      </td></tr>\n",
       "</tbody>\n",
       "</table>\n"
      ],
      "text/latex": [
       "A data.frame: 10 × 1\n",
       "\\begin{tabular}{r|l}\n",
       "  & Item\\\\\n",
       "  & <fct>\\\\\n",
       "\\hline\n",
       "\t1 & \\&                                     \\\\\n",
       "\t2 & accessories                           \\\\\n",
       "\t3 & accessories,antioxydant               \\\\\n",
       "\t4 & accessories,champagne,fresh           \\\\\n",
       "\t5 & accessories,champagne,protein         \\\\\n",
       "\t6 & accessories,chocolate                 \\\\\n",
       "\t7 & accessories,chocolate,champagne,frozen\\\\\n",
       "\t8 & accessories,chocolate,frozen          \\\\\n",
       "\t9 & accessories,chocolate,low             \\\\\n",
       "\t10 & accessories,chocolate,pasta,salt      \\\\\n",
       "\\end{tabular}\n"
      ],
      "text/markdown": [
       "\n",
       "A data.frame: 10 × 1\n",
       "\n",
       "| <!--/--> | Item &lt;fct&gt; |\n",
       "|---|---|\n",
       "| 1 | &amp;                                      |\n",
       "| 2 | accessories                            |\n",
       "| 3 | accessories,antioxydant                |\n",
       "| 4 | accessories,champagne,fresh            |\n",
       "| 5 | accessories,champagne,protein          |\n",
       "| 6 | accessories,chocolate                  |\n",
       "| 7 | accessories,chocolate,champagne,frozen |\n",
       "| 8 | accessories,chocolate,frozen           |\n",
       "| 9 | accessories,chocolate,low              |\n",
       "| 10 | accessories,chocolate,pasta,salt       |\n",
       "\n"
      ],
      "text/plain": [
       "   Item                                  \n",
       "1  &                                     \n",
       "2  accessories                           \n",
       "3  accessories,antioxydant               \n",
       "4  accessories,champagne,fresh           \n",
       "5  accessories,champagne,protein         \n",
       "6  accessories,chocolate                 \n",
       "7  accessories,chocolate,champagne,frozen\n",
       "8  accessories,chocolate,frozen          \n",
       "9  accessories,chocolate,low             \n",
       "10 accessories,chocolate,pasta,salt      "
      ]
     },
     "metadata": {},
     "output_type": "display_data"
    }
   ],
   "source": [
    "# If we wanted to preview the items that make up our dataset,\n",
    "# alternatively we can do the following\n",
    "# ---\n",
    "# \n",
    "items<-as.data.frame(itemLabels(Transactions))\n",
    "colnames(items) <- \"Item\"\n",
    "head(items, 10)   "
   ]
  },
  {
   "cell_type": "code",
   "execution_count": 7,
   "metadata": {},
   "outputs": [
    {
     "data": {
      "text/plain": [
       "transactions as itemMatrix in sparse format with\n",
       " 7501 rows (elements/itemsets/transactions) and\n",
       " 5729 columns (items) and a density of 0.0005421748 \n",
       "\n",
       "most frequent items:\n",
       "    tea   wheat mineral     fat  yogurt (Other) \n",
       "    803     645     577     574     543   20157 \n",
       "\n",
       "element (itemset/transaction) length distribution:\n",
       "sizes\n",
       "   1    2    3    4    5    6    7    8    9   10   11   12   13   15   16 \n",
       "1603 2007 1382  942  651  407  228  151   70   39   13    5    1    1    1 \n",
       "\n",
       "   Min. 1st Qu.  Median    Mean 3rd Qu.    Max. \n",
       "  1.000   2.000   3.000   3.106   4.000  16.000 \n",
       "\n",
       "includes extended item information - examples:\n",
       "                   labels\n",
       "1                       &\n",
       "2             accessories\n",
       "3 accessories,antioxydant"
      ]
     },
     "metadata": {},
     "output_type": "display_data"
    }
   ],
   "source": [
    "# Generating a summary of the transaction dataset\n",
    "# ---\n",
    "# This would give us some information such as the most purchased items, \n",
    "# distribution of the item sets (no. of items purchased in each transaction), etc.\n",
    "# ---\n",
    "# \n",
    "summary(Transactions)"
   ]
  },
  {
   "cell_type": "code",
   "execution_count": 8,
   "metadata": {},
   "outputs": [
    {
     "data": {
      "text/html": [
       "<style>\n",
       ".dl-inline {width: auto; margin:0; padding: 0}\n",
       ".dl-inline>dt, .dl-inline>dd {float: none; width: auto; display: inline-block}\n",
       ".dl-inline>dt::after {content: \":\\0020\"; padding-right: .5ex}\n",
       ".dl-inline>dt:not(:first-of-type) {padding-left: .5ex}\n",
       "</style><dl class=dl-inline><dt>accessories,chocolate,frozen</dt><dd>1</dd><dt>accessories,chocolate,low</dt><dd>1</dd><dt>accessories,chocolate,pasta,salt</dt><dd>1</dd></dl>\n"
      ],
      "text/latex": [
       "\\begin{description*}\n",
       "\\item[accessories,chocolate,frozen] 1\n",
       "\\item[accessories,chocolate,low] 1\n",
       "\\item[accessories,chocolate,pasta,salt] 1\n",
       "\\end{description*}\n"
      ],
      "text/markdown": [
       "accessories,chocolate,frozen\n",
       ":   1accessories,chocolate,low\n",
       ":   1accessories,chocolate,pasta,salt\n",
       ":   1\n",
       "\n"
      ],
      "text/plain": [
       "    accessories,chocolate,frozen        accessories,chocolate,low \n",
       "                               1                                1 \n",
       "accessories,chocolate,pasta,salt \n",
       "                               1 "
      ]
     },
     "metadata": {},
     "output_type": "display_data"
    },
    {
     "data": {
      "text/html": [
       "<style>\n",
       ".dl-inline {width: auto; margin:0; padding: 0}\n",
       ".dl-inline>dt, .dl-inline>dd {float: none; width: auto; display: inline-block}\n",
       ".dl-inline>dt::after {content: \":\\0020\"; padding-right: .5ex}\n",
       ".dl-inline>dt:not(:first-of-type) {padding-left: .5ex}\n",
       "</style><dl class=dl-inline><dt>accessories,chocolate,frozen</dt><dd>0.01</dd><dt>accessories,chocolate,low</dt><dd>0.01</dd><dt>accessories,chocolate,pasta,salt</dt><dd>0.01</dd></dl>\n"
      ],
      "text/latex": [
       "\\begin{description*}\n",
       "\\item[accessories,chocolate,frozen] 0.01\n",
       "\\item[accessories,chocolate,low] 0.01\n",
       "\\item[accessories,chocolate,pasta,salt] 0.01\n",
       "\\end{description*}\n"
      ],
      "text/markdown": [
       "accessories,chocolate,frozen\n",
       ":   0.01accessories,chocolate,low\n",
       ":   0.01accessories,chocolate,pasta,salt\n",
       ":   0.01\n",
       "\n"
      ],
      "text/plain": [
       "    accessories,chocolate,frozen        accessories,chocolate,low \n",
       "                            0.01                             0.01 \n",
       "accessories,chocolate,pasta,salt \n",
       "                            0.01 "
      ]
     },
     "metadata": {},
     "output_type": "display_data"
    }
   ],
   "source": [
    "# Exploring the frequency of some articles \n",
    "# i.e. transacations ranging from 8 to 10 and performing \n",
    "# some operation in percentage terms of the total transactions \n",
    "# \n",
    "itemFrequency(Transactions[, 8:10],type = \"absolute\")\n",
    "round(itemFrequency(Transactions[, 8:10],type = \"relative\")*100,2)"
   ]
  },
  {
   "cell_type": "code",
   "execution_count": 9,
   "metadata": {},
   "outputs": [],
   "source": [
    "# Displaying top 10 most common items in the transactions dataset \n",
    "# and the items whose relative importance is at least 10%\n",
    "# \n",
    "par(mfrow = c(1, 2))\n"
   ]
  },
  {
   "cell_type": "code",
   "execution_count": 10,
   "metadata": {},
   "outputs": [
    {
     "data": {
      "image/png": "[encoded data removed]",
      "text/plain": [
       "plot without title"
      ]
     },
     "metadata": {
      "image/png": {
       "height": 420,
       "width": 420
      },
      "text/plain": {
       "height": 420,
       "width": 420
      }
     },
     "output_type": "display_data"
    },
    {
     "data": {
      "image/png": "[encoded data removed]",
      "text/plain": [
       "plot without title"
      ]
     },
     "metadata": {
      "image/png": {
       "height": 420,
       "width": 420
      },
      "text/plain": {
       "height": 420,
       "width": 420
      }
     },
     "output_type": "display_data"
    }
   ],
   "source": [
    "# plot the frequency of items\n",
    "itemFrequencyPlot(Transactions, topN = 10,col=\"darkgreen\")\n",
    "itemFrequencyPlot(Transactions, support = 0.1,col=\"darkred\")"
   ]
  },
  {
   "cell_type": "code",
   "execution_count": 11,
   "metadata": {},
   "outputs": [
    {
     "name": "stdout",
     "output_type": "stream",
     "text": [
      "Apriori\n",
      "\n",
      "Parameter specification:\n",
      " confidence minval smax arem  aval originalSupport maxtime support minlen\n",
      "        0.8    0.1    1 none FALSE            TRUE       5   0.001      1\n",
      " maxlen target   ext\n",
      "     10  rules FALSE\n",
      "\n",
      "Algorithmic control:\n",
      " filter tree heap memopt load sort verbose\n",
      "    0.1 TRUE TRUE  FALSE TRUE    2    TRUE\n",
      "\n",
      "Absolute minimum support count: 7 \n",
      "\n",
      "set item appearances ...[0 item(s)] done [0.00s].\n",
      "set transactions ...[5729 item(s), 7501 transaction(s)] done [0.01s].\n",
      "sorting and recoding items ... [354 item(s)] done [0.00s].\n",
      "creating transaction tree ... done [0.00s].\n",
      "checking subsets of size 1 2 3 4 done [0.00s].\n",
      "writing ... [271 rule(s)] done [0.00s].\n",
      "creating S4 object  ... done [0.00s].\n"
     ]
    },
    {
     "data": {
      "text/plain": [
       "set of 271 rules "
      ]
     },
     "metadata": {},
     "output_type": "display_data"
    }
   ],
   "source": [
    "# Building a model based on association rules \n",
    "# using the apriori function \n",
    "# ---\n",
    "# We use Min Support as 0.001 and confidence as 0.8\n",
    "# ---\n",
    "# \n",
    "rules <- apriori (Transactions, parameter = list(supp = 0.001, conf = 0.8))\n",
    "rules\n"
   ]
  },
  {
   "cell_type": "code",
   "execution_count": 12,
   "metadata": {},
   "outputs": [
    {
     "name": "stdout",
     "output_type": "stream",
     "text": [
      "Apriori\n",
      "\n",
      "Parameter specification:\n",
      " confidence minval smax arem  aval originalSupport maxtime support minlen\n",
      "        0.8    0.1    1 none FALSE            TRUE       5   0.002      1\n",
      " maxlen target   ext\n",
      "     10  rules FALSE\n",
      "\n",
      "Algorithmic control:\n",
      " filter tree heap memopt load sort verbose\n",
      "    0.1 TRUE TRUE  FALSE TRUE    2    TRUE\n",
      "\n",
      "Absolute minimum support count: 15 \n",
      "\n",
      "set item appearances ...[0 item(s)] done [0.00s].\n",
      "set transactions ...[5729 item(s), 7501 transaction(s)] done [0.01s].\n",
      "sorting and recoding items ... [189 item(s)] done [0.00s].\n",
      "creating transaction tree ... done [0.00s].\n",
      "checking subsets of size 1 2 3 4 done [0.00s].\n",
      "writing ... [99 rule(s)] done [0.00s].\n",
      "creating S4 object  ... done [0.00s].\n",
      "Apriori\n",
      "\n",
      "Parameter specification:\n",
      " confidence minval smax arem  aval originalSupport maxtime support minlen\n",
      "        0.6    0.1    1 none FALSE            TRUE       5   0.001      1\n",
      " maxlen target   ext\n",
      "     10  rules FALSE\n",
      "\n",
      "Algorithmic control:\n",
      " filter tree heap memopt load sort verbose\n",
      "    0.1 TRUE TRUE  FALSE TRUE    2    TRUE\n",
      "\n",
      "Absolute minimum support count: 7 \n",
      "\n",
      "set item appearances ...[0 item(s)] done [0.00s].\n",
      "set transactions ...[5729 item(s), 7501 transaction(s)] done [0.01s].\n",
      "sorting and recoding items ... [354 item(s)] done [0.00s].\n",
      "creating transaction tree ... done [0.00s].\n",
      "checking subsets of size 1 2 3 4 done [0.00s].\n",
      "writing ... [319 rule(s)] done [0.00s].\n",
      "creating S4 object  ... done [0.00s].\n"
     ]
    },
    {
     "data": {
      "text/plain": [
       "set of 99 rules "
      ]
     },
     "metadata": {},
     "output_type": "display_data"
    },
    {
     "data": {
      "text/plain": [
       "set of 319 rules "
      ]
     },
     "metadata": {},
     "output_type": "display_data"
    }
   ],
   "source": [
    "# Building a apriori model with Min Support as 0.002 and confidence as 0.8.\n",
    "rules2 <- apriori (Transactions,parameter = list(supp = 0.002, conf = 0.8)) \n",
    "\n",
    "# Building apriori model with Min Support as 0.002 and confidence as 0.6.\n",
    "rules3 <- apriori (Transactions, parameter = list(supp = 0.001, conf = 0.6)) \n",
    "\n",
    "rules2\n",
    "\n",
    "rules3"
   ]
  },
  {
   "cell_type": "code",
   "execution_count": 13,
   "metadata": {},
   "outputs": [
    {
     "data": {
      "text/plain": [
       "set of 271 rules\n",
       "\n",
       "rule length distribution (lhs + rhs):sizes\n",
       "  2   3   4 \n",
       "107 144  20 \n",
       "\n",
       "   Min. 1st Qu.  Median    Mean 3rd Qu.    Max. \n",
       "  2.000   2.000   3.000   2.679   3.000   4.000 \n",
       "\n",
       "summary of quality measures:\n",
       "    support           confidence         lift             count       \n",
       " Min.   :0.001067   Min.   :0.800   Min.   :  7.611   Min.   :  8.00  \n",
       " 1st Qu.:0.001200   1st Qu.:0.931   1st Qu.: 11.630   1st Qu.:  9.00  \n",
       " Median :0.001600   Median :1.000   Median : 13.068   Median : 12.00  \n",
       " Mean   :0.002834   Mean   :0.963   Mean   : 22.372   Mean   : 21.26  \n",
       " 3rd Qu.:0.002666   3rd Qu.:1.000   3rd Qu.: 20.218   3rd Qu.: 20.00  \n",
       " Max.   :0.068391   Max.   :1.000   Max.   :613.718   Max.   :513.00  \n",
       "\n",
       "mining info:\n",
       "         data ntransactions support confidence\n",
       " Transactions          7501   0.001        0.8"
      ]
     },
     "metadata": {},
     "output_type": "display_data"
    }
   ],
   "source": [
    "# We can perform an exploration of our model \n",
    "# through the use of the summary function as shown\n",
    "# ---\n",
    "# Upon running the code, the function would give us information about the model \n",
    "# i.e. the size of rules, depending on the items that contain these rules. \n",
    "# In our above case, most rules have 3 and 4 items though some rules do have upto 6. \n",
    "# More statistical information such as support, lift and confidence is also provided.\n",
    "# ---\n",
    "# \n",
    "summary(rules)"
   ]
  },
  {
   "cell_type": "code",
   "execution_count": 14,
   "metadata": {},
   "outputs": [
    {
     "name": "stdout",
     "output_type": "stream",
     "text": [
      "     lhs                                rhs      support     confidence\n",
      "[1]  {cookies,low}                   => {yogurt} 0.001066524 1.0000000 \n",
      "[2]  {cookies,low}                   => {fat}    0.001066524 1.0000000 \n",
      "[3]  {extra}                         => {dark}   0.001066524 1.0000000 \n",
      "[4]  {burgers,whole}                 => {wheat}  0.001199840 1.0000000 \n",
      "[5]  {fries,escalope,pasta,mushroom} => {cream}  0.001066524 1.0000000 \n",
      "[6]  {fries,cookies,green}           => {tea}    0.001333156 1.0000000 \n",
      "[7]  {shrimp,whole}                  => {wheat}  0.001066524 1.0000000 \n",
      "[8]  {rice,cake}                     => {wheat}  0.001333156 1.0000000 \n",
      "[9]  {tomatoes,whole}                => {wheat}  0.001066524 0.8000000 \n",
      "[10] {rice,chocolate}                => {wheat}  0.001199840 0.9000000 \n",
      "[11] {flour,green}                   => {weat}   0.001199840 1.0000000 \n",
      "[12] {rice,chocolate,french}         => {wheat}  0.001066524 1.0000000 \n",
      "[13] {cake,low}                      => {yogurt} 0.001066524 0.8888889 \n",
      "[14] {cake,low}                      => {fat}    0.001199840 1.0000000 \n",
      "[15] {water,low}                     => {yogurt} 0.001199840 0.9000000 \n",
      "     lift       count\n",
      "[1]   13.813996  8   \n",
      "[2]   13.067944  8   \n",
      "[3]   83.344444  8   \n",
      "[4]   11.629457  9   \n",
      "[5]   47.777070  8   \n",
      "[6]    9.341220 10   \n",
      "[7]   11.629457  8   \n",
      "[8]   11.629457 10   \n",
      "[9]    9.303566  8   \n",
      "[10]  10.466512  9   \n",
      "[11] 107.157143  9   \n",
      "[12]  11.629457  8   \n",
      "[13]  12.279108  8   \n",
      "[14]  13.067944  9   \n",
      "[15]  12.432597  9   \n"
     ]
    }
   ],
   "source": [
    "# Observing rules built in our model i.e. first 5 model rules\n",
    "# ---\n",
    "# \n",
    "inspect(rules[1:15])"
   ]
  },
  {
   "cell_type": "code",
   "execution_count": 15,
   "metadata": {},
   "outputs": [
    {
     "name": "stdout",
     "output_type": "stream",
     "text": [
      "    lhs                                rhs      support     confidence lift    \n",
      "[1] {cookies,low}                   => {yogurt} 0.001066524 1          13.81400\n",
      "[2] {cookies,low}                   => {fat}    0.001066524 1          13.06794\n",
      "[3] {extra}                         => {dark}   0.001066524 1          83.34444\n",
      "[4] {burgers,whole}                 => {wheat}  0.001199840 1          11.62946\n",
      "[5] {fries,escalope,pasta,mushroom} => {cream}  0.001066524 1          47.77707\n",
      "    count\n",
      "[1] 8    \n",
      "[2] 8    \n",
      "[3] 8    \n",
      "[4] 9    \n",
      "[5] 8    \n"
     ]
    }
   ],
   "source": [
    "# Ordering these rules by a criteria such as the level of confidence\n",
    "# then looking at the first five rules.\n",
    "# We can also use different criteria such as: (by = \"lift\" or by = \"support\")\n",
    "# \n",
    "rules<-sort(rules, by=\"confidence\", decreasing=TRUE)\n",
    "inspect(rules[1:5])"
   ]
  },
  {
   "cell_type": "code",
   "execution_count": 16,
   "metadata": {},
   "outputs": [
    {
     "name": "stdout",
     "output_type": "stream",
     "text": [
      "    lhs                  rhs      support     confidence lift   count\n",
      "[1] {cookies,low}     => {yogurt} 0.001066524 1          13.814  8   \n",
      "[2] {wine,low}        => {yogurt} 0.001333156 1          13.814 10   \n",
      "[3] {cheese,low}      => {yogurt} 0.001733102 1          13.814 13   \n",
      "[4] {mayo,low}        => {yogurt} 0.001733102 1          13.814 13   \n",
      "[5] {cookies,low,fat} => {yogurt} 0.001066524 1          13.814  8   \n"
     ]
    }
   ],
   "source": [
    "# If we're interested in making a promotion relating to the sale of yogurt, \n",
    "# we could create a subset of rules concerning these products \n",
    "# ---\n",
    "# This would tell us the items that the customers bought before purchasing yogurt\n",
    "# ---\n",
    "# \n",
    "yogurt <- subset(rules, subset = rhs %pin% \"yogurt\")\n",
    " \n",
    "# Then order by confidence\n",
    "yogurt<-sort(yogurt, by=\"confidence\", decreasing=TRUE)\n",
    "inspect(yogurt[1:5])"
   ]
  },
  {
   "cell_type": "markdown",
   "metadata": {},
   "source": [
    "If someone buys cookies and low, they are 100% likely to buy yogurt too. "
   ]
  },
  {
   "cell_type": "code",
   "execution_count": 17,
   "metadata": {},
   "outputs": [
    {
     "name": "stdout",
     "output_type": "stream",
     "text": [
      "    lhs                     rhs     support     confidence lift     count\n",
      "[1] {juice,low,yogurt}   => {fat}   0.002532996 1          13.06794 19   \n",
      "[2] {bread,low,yogurt}   => {fat}   0.003732836 1          13.06794 28   \n",
      "[3] {water,whole,yogurt} => {fat}   0.001199840 1          13.06794  9   \n",
      "[4] {water,whole,yogurt} => {wheat} 0.001199840 1          11.62946  9   \n",
      "[5] {tea,yogurt,green}   => {fat}   0.004666045 1          13.06794 35   \n"
     ]
    }
   ],
   "source": [
    "# What if we wanted to determine items that customers might buy \n",
    "# who have previously bought yogurt?\n",
    "# ---\n",
    "# \n",
    "# Subset the rules\n",
    "yogurt <- subset(rules, subset = lhs %pin% \"yogurt\")\n",
    "\n",
    "# Order by confidence\n",
    "yogurt<-sort(yogurt, by=\"confidence\", decreasing=TRUE)\n",
    "\n",
    "# inspect top 5\n",
    "inspect(yogurt[15:19])"
   ]
  }
 ],
 "metadata": {
  "kernelspec": {
   "display_name": "R",
   "language": "R",
   "name": "ir"
  },
  "language_info": {
   "codemirror_mode": "r",
   "file_extension": ".r",
   "mimetype": "text/x-r-source",
   "name": "R",
   "pygments_lexer": "r",
   "version": "3.6.1"
  }
 },
 "nbformat": 4,
 "nbformat_minor": 4
}
