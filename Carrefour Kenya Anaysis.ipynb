{
 "cells": [
  {
   "cell_type": "markdown",
   "metadata": {},
   "source": [
    "# Carrefour Kenya Analysis"
   ]
  },
  {
   "cell_type": "markdown",
   "metadata": {},
   "source": [
    "## Business Understanding\n",
    "\n",
    "You are a Data analyst at Carrefour Kenya and are currently undertaking a project that will inform the marketing department on the most relevant marketing strategies that will result in the highest no. of sales (total price including tax). Your project has been divided into three parts where you'll explore a recent marketing dataset by performing various unsupervised learning techniques and later providing recommendations based on your insights.\n",
    "\n",
    "\n",
    "## Specifying the question\n",
    "Part 1: Dimensionality Reduction\n",
    "\n",
    "Reduce the dataset to a low dimensional dataset using the t-SNE algorithm or PCA. Perform analysis and provide insights gained from your analysis. Data to use is http://bit.ly/CarreFourDataset\n",
    "\n",
    "Part 2: Feature Selection\n",
    "\n",
    "Perform feature selection through the use of the unsupervised learning methods learned earlier this week. Perform analysis and provide insights on the features that contribute the most information to the dataset. Data to use is http://bit.ly/CarreFourDataset\n",
    "\n",
    "\n",
    "## Metric for success\n",
    "Dataset with reduced dimensions.\n",
    "\n",
    "\n",
    "## Recording the experimental design\n",
    "Problem Definition\n",
    "\n",
    "Data Sourcing\n",
    "\n",
    "Check the Data\n",
    "\n",
    "Perform Data Cleaning\n",
    "\n",
    "Perform Exploratory Data Analysis (Univariate, Bivariate & Multivariate)\n",
    "\n",
    "Implement the Solution\n",
    "\n",
    "Challenge the Solution\n",
    "\n",
    "Follow up Questions"
   ]
  },
  {
   "cell_type": "code",
   "execution_count": 1,
   "metadata": {},
   "outputs": [
    {
     "name": "stderr",
     "output_type": "stream",
     "text": [
      "Updating HTML index of packages in '.Library'\n",
      "\n",
      "Making 'packages.html' ...\n",
      " done\n",
      "\n",
      "\n",
      "Attaching package: ‘dplyr’\n",
      "\n",
      "\n",
      "The following objects are masked from ‘package:stats’:\n",
      "\n",
      "    filter, lag\n",
      "\n",
      "\n",
      "The following objects are masked from ‘package:base’:\n",
      "\n",
      "    intersect, setdiff, setequal, union\n",
      "\n",
      "\n",
      "Updating HTML index of packages in '.Library'\n",
      "\n",
      "Making 'packages.html' ...\n",
      " done\n",
      "\n",
      "also installing the dependencies ‘ModelMetrics’, ‘recipes’\n",
      "\n",
      "\n",
      "Updating HTML index of packages in '.Library'\n",
      "\n",
      "Making 'packages.html' ...\n",
      " done\n",
      "\n",
      "Loading required package: lattice\n",
      "\n",
      "Loading required package: ggplot2\n",
      "\n",
      "Updating HTML index of packages in '.Library'\n",
      "\n",
      "Making 'packages.html' ...\n",
      " done\n",
      "\n",
      "corrplot 0.84 loaded\n",
      "\n"
     ]
    }
   ],
   "source": [
    "## Installing packages\n",
    "\n",
    "install.packages(\"dplyr\")\n",
    "library(dplyr)\n",
    "install.packages(\"Rtsne\")\n",
    "library(Rtsne)\n",
    "install.packages(\"caret\")\n",
    "library(caret)\n",
    "install.packages(\"corrplot\")\n",
    "library(corrplot)"
   ]
  },
  {
   "cell_type": "code",
   "execution_count": 2,
   "metadata": {},
   "outputs": [],
   "source": [
    "# loading the dataset\n",
    "df <- read.csv(\"Supermarket_Dataset_1 - Sales Data.csv\")"
   ]
  },
  {
   "cell_type": "code",
   "execution_count": 3,
   "metadata": {},
   "outputs": [
    {
     "data": {
      "text/html": [
       "<table>\n",
       "<caption>A data.frame: 6 × 16</caption>\n",
       "<thead>\n",
       "\t<tr><th></th><th scope=col>Invoice.ID</th><th scope=col>Branch</th><th scope=col>Customer.type</th><th scope=col>Gender</th><th scope=col>Product.line</th><th scope=col>Unit.price</th><th scope=col>Quantity</th><th scope=col>Tax</th><th scope=col>Date</th><th scope=col>Time</th><th scope=col>Payment</th><th scope=col>cogs</th><th scope=col>gross.margin.percentage</th><th scope=col>gross.income</th><th scope=col>Rating</th><th scope=col>Total</th></tr>\n",
       "\t<tr><th></th><th scope=col>&lt;fct&gt;</th><th scope=col>&lt;fct&gt;</th><th scope=col>&lt;fct&gt;</th><th scope=col>&lt;fct&gt;</th><th scope=col>&lt;fct&gt;</th><th scope=col>&lt;dbl&gt;</th><th scope=col>&lt;int&gt;</th><th scope=col>&lt;dbl&gt;</th><th scope=col>&lt;fct&gt;</th><th scope=col>&lt;fct&gt;</th><th scope=col>&lt;fct&gt;</th><th scope=col>&lt;dbl&gt;</th><th scope=col>&lt;dbl&gt;</th><th scope=col>&lt;dbl&gt;</th><th scope=col>&lt;dbl&gt;</th><th scope=col>&lt;dbl&gt;</th></tr>\n",
       "</thead>\n",
       "<tbody>\n",
       "\t<tr><th scope=row>1</th><td>750-67-8428</td><td>A</td><td>Member</td><td>Female</td><td>Health and beauty     </td><td>74.69</td><td>7</td><td>26.1415</td><td>1/5/2019 </td><td>13:08</td><td>Ewallet    </td><td>522.83</td><td>4.761905</td><td>26.1415</td><td>9.1</td><td>548.9715</td></tr>\n",
       "\t<tr><th scope=row>2</th><td>226-31-3081</td><td>C</td><td>Normal</td><td>Female</td><td>Electronic accessories</td><td>15.28</td><td>5</td><td> 3.8200</td><td>3/8/2019 </td><td>10:29</td><td>Cash       </td><td> 76.40</td><td>4.761905</td><td> 3.8200</td><td>9.6</td><td> 80.2200</td></tr>\n",
       "\t<tr><th scope=row>3</th><td>631-41-3108</td><td>A</td><td>Normal</td><td>Male  </td><td>Home and lifestyle    </td><td>46.33</td><td>7</td><td>16.2155</td><td>3/3/2019 </td><td>13:23</td><td>Credit card</td><td>324.31</td><td>4.761905</td><td>16.2155</td><td>7.4</td><td>340.5255</td></tr>\n",
       "\t<tr><th scope=row>4</th><td>123-19-1176</td><td>A</td><td>Member</td><td>Male  </td><td>Health and beauty     </td><td>58.22</td><td>8</td><td>23.2880</td><td>1/27/2019</td><td>20:33</td><td>Ewallet    </td><td>465.76</td><td>4.761905</td><td>23.2880</td><td>8.4</td><td>489.0480</td></tr>\n",
       "\t<tr><th scope=row>5</th><td>373-73-7910</td><td>A</td><td>Normal</td><td>Male  </td><td>Sports and travel     </td><td>86.31</td><td>7</td><td>30.2085</td><td>2/8/2019 </td><td>10:37</td><td>Ewallet    </td><td>604.17</td><td>4.761905</td><td>30.2085</td><td>5.3</td><td>634.3785</td></tr>\n",
       "\t<tr><th scope=row>6</th><td>699-14-3026</td><td>C</td><td>Normal</td><td>Male  </td><td>Electronic accessories</td><td>85.39</td><td>7</td><td>29.8865</td><td>3/25/2019</td><td>18:30</td><td>Ewallet    </td><td>597.73</td><td>4.761905</td><td>29.8865</td><td>4.1</td><td>627.6165</td></tr>\n",
       "</tbody>\n",
       "</table>\n"
      ],
      "text/latex": [
       "A data.frame: 6 × 16\n",
       "\\begin{tabular}{r|llllllllllllllll}\n",
       "  & Invoice.ID & Branch & Customer.type & Gender & Product.line & Unit.price & Quantity & Tax & Date & Time & Payment & cogs & gross.margin.percentage & gross.income & Rating & Total\\\\\n",
       "  & <fct> & <fct> & <fct> & <fct> & <fct> & <dbl> & <int> & <dbl> & <fct> & <fct> & <fct> & <dbl> & <dbl> & <dbl> & <dbl> & <dbl>\\\\\n",
       "\\hline\n",
       "\t1 & 750-67-8428 & A & Member & Female & Health and beauty      & 74.69 & 7 & 26.1415 & 1/5/2019  & 13:08 & Ewallet     & 522.83 & 4.761905 & 26.1415 & 9.1 & 548.9715\\\\\n",
       "\t2 & 226-31-3081 & C & Normal & Female & Electronic accessories & 15.28 & 5 &  3.8200 & 3/8/2019  & 10:29 & Cash        &  76.40 & 4.761905 &  3.8200 & 9.6 &  80.2200\\\\\n",
       "\t3 & 631-41-3108 & A & Normal & Male   & Home and lifestyle     & 46.33 & 7 & 16.2155 & 3/3/2019  & 13:23 & Credit card & 324.31 & 4.761905 & 16.2155 & 7.4 & 340.5255\\\\\n",
       "\t4 & 123-19-1176 & A & Member & Male   & Health and beauty      & 58.22 & 8 & 23.2880 & 1/27/2019 & 20:33 & Ewallet     & 465.76 & 4.761905 & 23.2880 & 8.4 & 489.0480\\\\\n",
       "\t5 & 373-73-7910 & A & Normal & Male   & Sports and travel      & 86.31 & 7 & 30.2085 & 2/8/2019  & 10:37 & Ewallet     & 604.17 & 4.761905 & 30.2085 & 5.3 & 634.3785\\\\\n",
       "\t6 & 699-14-3026 & C & Normal & Male   & Electronic accessories & 85.39 & 7 & 29.8865 & 3/25/2019 & 18:30 & Ewallet     & 597.73 & 4.761905 & 29.8865 & 4.1 & 627.6165\\\\\n",
       "\\end{tabular}\n"
      ],
      "text/markdown": [
       "\n",
       "A data.frame: 6 × 16\n",
       "\n",
       "| <!--/--> | Invoice.ID &lt;fct&gt; | Branch &lt;fct&gt; | Customer.type &lt;fct&gt; | Gender &lt;fct&gt; | Product.line &lt;fct&gt; | Unit.price &lt;dbl&gt; | Quantity &lt;int&gt; | Tax &lt;dbl&gt; | Date &lt;fct&gt; | Time &lt;fct&gt; | Payment &lt;fct&gt; | cogs &lt;dbl&gt; | gross.margin.percentage &lt;dbl&gt; | gross.income &lt;dbl&gt; | Rating &lt;dbl&gt; | Total &lt;dbl&gt; |\n",
       "|---|---|---|---|---|---|---|---|---|---|---|---|---|---|---|---|---|\n",
       "| 1 | 750-67-8428 | A | Member | Female | Health and beauty      | 74.69 | 7 | 26.1415 | 1/5/2019  | 13:08 | Ewallet     | 522.83 | 4.761905 | 26.1415 | 9.1 | 548.9715 |\n",
       "| 2 | 226-31-3081 | C | Normal | Female | Electronic accessories | 15.28 | 5 |  3.8200 | 3/8/2019  | 10:29 | Cash        |  76.40 | 4.761905 |  3.8200 | 9.6 |  80.2200 |\n",
       "| 3 | 631-41-3108 | A | Normal | Male   | Home and lifestyle     | 46.33 | 7 | 16.2155 | 3/3/2019  | 13:23 | Credit card | 324.31 | 4.761905 | 16.2155 | 7.4 | 340.5255 |\n",
       "| 4 | 123-19-1176 | A | Member | Male   | Health and beauty      | 58.22 | 8 | 23.2880 | 1/27/2019 | 20:33 | Ewallet     | 465.76 | 4.761905 | 23.2880 | 8.4 | 489.0480 |\n",
       "| 5 | 373-73-7910 | A | Normal | Male   | Sports and travel      | 86.31 | 7 | 30.2085 | 2/8/2019  | 10:37 | Ewallet     | 604.17 | 4.761905 | 30.2085 | 5.3 | 634.3785 |\n",
       "| 6 | 699-14-3026 | C | Normal | Male   | Electronic accessories | 85.39 | 7 | 29.8865 | 3/25/2019 | 18:30 | Ewallet     | 597.73 | 4.761905 | 29.8865 | 4.1 | 627.6165 |\n",
       "\n"
      ],
      "text/plain": [
       "  Invoice.ID  Branch Customer.type Gender Product.line           Unit.price\n",
       "1 750-67-8428 A      Member        Female Health and beauty      74.69     \n",
       "2 226-31-3081 C      Normal        Female Electronic accessories 15.28     \n",
       "3 631-41-3108 A      Normal        Male   Home and lifestyle     46.33     \n",
       "4 123-19-1176 A      Member        Male   Health and beauty      58.22     \n",
       "5 373-73-7910 A      Normal        Male   Sports and travel      86.31     \n",
       "6 699-14-3026 C      Normal        Male   Electronic accessories 85.39     \n",
       "  Quantity Tax     Date      Time  Payment     cogs   gross.margin.percentage\n",
       "1 7        26.1415 1/5/2019  13:08 Ewallet     522.83 4.761905               \n",
       "2 5         3.8200 3/8/2019  10:29 Cash         76.40 4.761905               \n",
       "3 7        16.2155 3/3/2019  13:23 Credit card 324.31 4.761905               \n",
       "4 8        23.2880 1/27/2019 20:33 Ewallet     465.76 4.761905               \n",
       "5 7        30.2085 2/8/2019  10:37 Ewallet     604.17 4.761905               \n",
       "6 7        29.8865 3/25/2019 18:30 Ewallet     597.73 4.761905               \n",
       "  gross.income Rating Total   \n",
       "1 26.1415      9.1    548.9715\n",
       "2  3.8200      9.6     80.2200\n",
       "3 16.2155      7.4    340.5255\n",
       "4 23.2880      8.4    489.0480\n",
       "5 30.2085      5.3    634.3785\n",
       "6 29.8865      4.1    627.6165"
      ]
     },
     "metadata": {},
     "output_type": "display_data"
    }
   ],
   "source": [
    "# reading the first 6 rows of our dataset\n",
    "head(df)"
   ]
  },
  {
   "cell_type": "code",
   "execution_count": 4,
   "metadata": {},
   "outputs": [
    {
     "data": {
      "text/plain": [
       "       Invoice.ID  Branch  Customer.type    Gender   \n",
       " 101-17-6199:  1   A:340   Member:501    Female:501  \n",
       " 101-81-4070:  1   B:332   Normal:499    Male  :499  \n",
       " 102-06-2002:  1   C:328                             \n",
       " 102-77-2261:  1                                     \n",
       " 105-10-6182:  1                                     \n",
       " 105-31-1824:  1                                     \n",
       " (Other)    :994                                     \n",
       "                 Product.line   Unit.price       Quantity          Tax         \n",
       " Electronic accessories:170   Min.   :10.08   Min.   : 1.00   Min.   : 0.5085  \n",
       " Fashion accessories   :178   1st Qu.:32.88   1st Qu.: 3.00   1st Qu.: 5.9249  \n",
       " Food and beverages    :174   Median :55.23   Median : 5.00   Median :12.0880  \n",
       " Health and beauty     :152   Mean   :55.67   Mean   : 5.51   Mean   :15.3794  \n",
       " Home and lifestyle    :160   3rd Qu.:77.94   3rd Qu.: 8.00   3rd Qu.:22.4453  \n",
       " Sports and travel     :166   Max.   :99.96   Max.   :10.00   Max.   :49.6500  \n",
       "                                                                               \n",
       "        Date          Time            Payment         cogs       \n",
       " 2/7/2019 : 20   14:42  :  7   Cash       :344   Min.   : 10.17  \n",
       " 2/15/2019: 19   19:48  :  7   Credit card:311   1st Qu.:118.50  \n",
       " 1/8/2019 : 18   17:38  :  6   Ewallet    :345   Median :241.76  \n",
       " 3/14/2019: 18   10:11  :  5                     Mean   :307.59  \n",
       " 3/2/2019 : 18   11:40  :  5                     3rd Qu.:448.90  \n",
       " 1/23/2019: 17   11:51  :  5                     Max.   :993.00  \n",
       " (Other)  :890   (Other):965                                     \n",
       " gross.margin.percentage  gross.income         Rating           Total        \n",
       " Min.   :4.762           Min.   : 0.5085   Min.   : 4.000   Min.   :  10.68  \n",
       " 1st Qu.:4.762           1st Qu.: 5.9249   1st Qu.: 5.500   1st Qu.: 124.42  \n",
       " Median :4.762           Median :12.0880   Median : 7.000   Median : 253.85  \n",
       " Mean   :4.762           Mean   :15.3794   Mean   : 6.973   Mean   : 322.97  \n",
       " 3rd Qu.:4.762           3rd Qu.:22.4453   3rd Qu.: 8.500   3rd Qu.: 471.35  \n",
       " Max.   :4.762           Max.   :49.6500   Max.   :10.000   Max.   :1042.65  \n",
       "                                                                             "
      ]
     },
     "metadata": {},
     "output_type": "display_data"
    }
   ],
   "source": [
    "# Checking for the summary description of our data\n",
    "\n",
    "summary(df)"
   ]
  },
  {
   "cell_type": "code",
   "execution_count": 5,
   "metadata": {},
   "outputs": [
    {
     "name": "stdout",
     "output_type": "stream",
     "text": [
      "'data.frame':\t1000 obs. of  16 variables:\n",
      " $ Invoice.ID             : Factor w/ 1000 levels \"101-17-6199\",..: 815 143 654 19 340 734 316 265 703 727 ...\n",
      " $ Branch                 : Factor w/ 3 levels \"A\",\"B\",\"C\": 1 3 1 1 1 3 1 3 1 2 ...\n",
      " $ Customer.type          : Factor w/ 2 levels \"Member\",\"Normal\": 1 2 2 1 2 2 1 2 1 1 ...\n",
      " $ Gender                 : Factor w/ 2 levels \"Female\",\"Male\": 1 1 2 2 2 2 1 1 1 1 ...\n",
      " $ Product.line           : Factor w/ 6 levels \"Electronic accessories\",..: 4 1 5 4 6 1 1 5 4 3 ...\n",
      " $ Unit.price             : num  74.7 15.3 46.3 58.2 86.3 ...\n",
      " $ Quantity               : int  7 5 7 8 7 7 6 10 2 3 ...\n",
      " $ Tax                    : num  26.14 3.82 16.22 23.29 30.21 ...\n",
      " $ Date                   : Factor w/ 89 levels \"1/1/2019\",\"1/10/2019\",..: 27 88 82 20 58 77 49 48 2 44 ...\n",
      " $ Time                   : Factor w/ 506 levels \"10:00\",\"10:01\",..: 147 24 156 486 30 394 215 78 342 160 ...\n",
      " $ Payment                : Factor w/ 3 levels \"Cash\",\"Credit card\",..: 3 1 2 3 3 3 3 3 2 2 ...\n",
      " $ cogs                   : num  522.8 76.4 324.3 465.8 604.2 ...\n",
      " $ gross.margin.percentage: num  4.76 4.76 4.76 4.76 4.76 ...\n",
      " $ gross.income           : num  26.14 3.82 16.22 23.29 30.21 ...\n",
      " $ Rating                 : num  9.1 9.6 7.4 8.4 5.3 4.1 5.8 8 7.2 5.9 ...\n",
      " $ Total                  : num  549 80.2 340.5 489 634.4 ...\n"
     ]
    }
   ],
   "source": [
    "# Checking the structure of our dataset\n",
    "\n",
    "str(df)"
   ]
  },
  {
   "cell_type": "code",
   "execution_count": 6,
   "metadata": {},
   "outputs": [],
   "source": [
    "### Concatenate the columns data and time\n",
    " \n",
    "df$Date_time = paste(df$Date,df$Time)\n",
    "\n",
    "# Converting the column into string\n",
    "df$Date_time = as.character(df$Date_time)\n"
   ]
  },
  {
   "cell_type": "code",
   "execution_count": 7,
   "metadata": {},
   "outputs": [],
   "source": [
    "# converting the Date_time column data type to date time\n",
    "\n",
    "df$Date_time = strptime(df$Date_time, \"%m/%d/%Y %M:%S\")\n"
   ]
  },
  {
   "cell_type": "code",
   "execution_count": 8,
   "metadata": {},
   "outputs": [
    {
     "name": "stdout",
     "output_type": "stream",
     "text": [
      " POSIXlt[1:1000], format: \"2019-01-05 00:13:08\" \"2019-03-08 00:10:29\" \"2019-03-03 00:13:23\" ...\n"
     ]
    }
   ],
   "source": [
    "# checking if the data type has been converted\n",
    "\n",
    "str(df$Date_time)"
   ]
  },
  {
   "cell_type": "markdown",
   "metadata": {},
   "source": [
    "## Data Cleaning"
   ]
  },
  {
   "cell_type": "code",
   "execution_count": 9,
   "metadata": {},
   "outputs": [
    {
     "data": {
      "text/html": [
       "<style>\n",
       ".dl-inline {width: auto; margin:0; padding: 0}\n",
       ".dl-inline>dt, .dl-inline>dd {float: none; width: auto; display: inline-block}\n",
       ".dl-inline>dt::after {content: \":\\0020\"; padding-right: .5ex}\n",
       ".dl-inline>dt:not(:first-of-type) {padding-left: .5ex}\n",
       "</style><dl class=dl-inline><dt>Invoice.ID</dt><dd>0</dd><dt>Branch</dt><dd>0</dd><dt>Customer.type</dt><dd>0</dd><dt>Gender</dt><dd>0</dd><dt>Product.line</dt><dd>0</dd><dt>Unit.price</dt><dd>0</dd><dt>Quantity</dt><dd>0</dd><dt>Tax</dt><dd>0</dd><dt>Date</dt><dd>0</dd><dt>Time</dt><dd>0</dd><dt>Payment</dt><dd>0</dd><dt>cogs</dt><dd>0</dd><dt>gross.margin.percentage</dt><dd>0</dd><dt>gross.income</dt><dd>0</dd><dt>Rating</dt><dd>0</dd><dt>Total</dt><dd>0</dd><dt>Date_time</dt><dd>0</dd></dl>\n"
      ],
      "text/latex": [
       "\\begin{description*}\n",
       "\\item[Invoice.ID] 0\n",
       "\\item[Branch] 0\n",
       "\\item[Customer.type] 0\n",
       "\\item[Gender] 0\n",
       "\\item[Product.line] 0\n",
       "\\item[Unit.price] 0\n",
       "\\item[Quantity] 0\n",
       "\\item[Tax] 0\n",
       "\\item[Date] 0\n",
       "\\item[Time] 0\n",
       "\\item[Payment] 0\n",
       "\\item[cogs] 0\n",
       "\\item[gross.margin.percentage] 0\n",
       "\\item[gross.income] 0\n",
       "\\item[Rating] 0\n",
       "\\item[Total] 0\n",
       "\\item[Date\\textbackslash{}\\_time] 0\n",
       "\\end{description*}\n"
      ],
      "text/markdown": [
       "Invoice.ID\n",
       ":   0Branch\n",
       ":   0Customer.type\n",
       ":   0Gender\n",
       ":   0Product.line\n",
       ":   0Unit.price\n",
       ":   0Quantity\n",
       ":   0Tax\n",
       ":   0Date\n",
       ":   0Time\n",
       ":   0Payment\n",
       ":   0cogs\n",
       ":   0gross.margin.percentage\n",
       ":   0gross.income\n",
       ":   0Rating\n",
       ":   0Total\n",
       ":   0Date_time\n",
       ":   0\n",
       "\n"
      ],
      "text/plain": [
       "             Invoice.ID                  Branch           Customer.type \n",
       "                      0                       0                       0 \n",
       "                 Gender            Product.line              Unit.price \n",
       "                      0                       0                       0 \n",
       "               Quantity                     Tax                    Date \n",
       "                      0                       0                       0 \n",
       "                   Time                 Payment                    cogs \n",
       "                      0                       0                       0 \n",
       "gross.margin.percentage            gross.income                  Rating \n",
       "                      0                       0                       0 \n",
       "                  Total               Date_time \n",
       "                      0                       0 "
      ]
     },
     "metadata": {},
     "output_type": "display_data"
    }
   ],
   "source": [
    "# Checking for Missing Values\n",
    "\n",
    "colSums(is.na(df))"
   ]
  },
  {
   "cell_type": "markdown",
   "metadata": {},
   "source": [
    "There are no missing values. "
   ]
  },
  {
   "cell_type": "code",
   "execution_count": 10,
   "metadata": {},
   "outputs": [
    {
     "name": "stderr",
     "output_type": "stream",
     "text": [
      "Updating HTML index of packages in '.Library'\n",
      "\n",
      "Making 'packages.html' ...\n",
      " done\n",
      "\n"
     ]
    },
    {
     "data": {
      "image/png": "[encoded data removed]",
      "text/plain": [
       "plot without title"
      ]
     },
     "metadata": {
      "image/png": {
       "height": 420,
       "width": 420
      },
      "text/plain": {
       "height": 420,
       "width": 420
      }
     },
     "output_type": "display_data"
    }
   ],
   "source": [
    "# Plotting the missing values\n",
    "\n",
    "install.packages(\"DataExplorer\")\n",
    "library(DataExplorer)\n",
    "df$Date_time <- as.POSIXct(df$Date_time)\n",
    "plot_missing(df)"
   ]
  },
  {
   "cell_type": "code",
   "execution_count": 11,
   "metadata": {},
   "outputs": [
    {
     "data": {
      "text/html": [
       "0"
      ],
      "text/latex": [
       "0"
      ],
      "text/markdown": [
       "0"
      ],
      "text/plain": [
       "[1] 0"
      ]
     },
     "metadata": {},
     "output_type": "display_data"
    }
   ],
   "source": [
    "\n",
    "# Checking for duplicated data\n",
    "\n",
    "duplicates <- df[duplicated(df),]\n",
    "\n",
    "#duplicates\n",
    "\n",
    "anyDuplicated(df)"
   ]
  },
  {
   "cell_type": "markdown",
   "metadata": {},
   "source": [
    "We dont have any duplicated data."
   ]
  },
  {
   "cell_type": "code",
   "execution_count": 12,
   "metadata": {},
   "outputs": [
    {
     "data": {
      "image/png": "[encoded data removed]",
      "text/plain": [
       "plot without title"
      ]
     },
     "metadata": {
      "image/png": {
       "height": 420,
       "width": 420
      },
      "text/plain": {
       "height": 420,
       "width": 420
      }
     },
     "output_type": "display_data"
    }
   ],
   "source": [
    "# Plot a boxplot to help us visualise any existing outliers \n",
    "\n",
    "boxplot(df)"
   ]
  },
  {
   "cell_type": "code",
   "execution_count": 13,
   "metadata": {},
   "outputs": [
    {
     "data": {
      "image/png": "[encoded data removed]",
      "text/plain": [
       "Plot with title “Date_time Boxplot”"
      ]
     },
     "metadata": {
      "image/png": {
       "height": 420,
       "width": 420
      },
      "text/plain": {
       "height": 420,
       "width": 420
      }
     },
     "output_type": "display_data"
    }
   ],
   "source": [
    "# plotting a boxplot for the date outliers\n",
    "\n",
    "boxplot(df$Date_time,\n",
    "main = \"Date_time Boxplot\",\n",
    "xlab = \"Date_time\",\n",
    "col = \"orange\",\n",
    "border = \"brown\",\n",
    "horizontal = TRUE,\n",
    "notch = TRUE\n",
    ")"
   ]
  },
  {
   "cell_type": "code",
   "execution_count": 14,
   "metadata": {
    "scrolled": true
   },
   "outputs": [
    {
     "data": {
      "text/html": [
       "<table>\n",
       "<caption>A data.frame: 6 × 13</caption>\n",
       "<thead>\n",
       "\t<tr><th></th><th scope=col>Branch</th><th scope=col>Customer.type</th><th scope=col>Gender</th><th scope=col>Product.line</th><th scope=col>Unit.price</th><th scope=col>Quantity</th><th scope=col>Tax</th><th scope=col>Payment</th><th scope=col>cogs</th><th scope=col>gross.income</th><th scope=col>Rating</th><th scope=col>Total</th><th scope=col>Date_time</th></tr>\n",
       "\t<tr><th></th><th scope=col>&lt;fct&gt;</th><th scope=col>&lt;fct&gt;</th><th scope=col>&lt;fct&gt;</th><th scope=col>&lt;fct&gt;</th><th scope=col>&lt;dbl&gt;</th><th scope=col>&lt;int&gt;</th><th scope=col>&lt;dbl&gt;</th><th scope=col>&lt;fct&gt;</th><th scope=col>&lt;dbl&gt;</th><th scope=col>&lt;dbl&gt;</th><th scope=col>&lt;dbl&gt;</th><th scope=col>&lt;dbl&gt;</th><th scope=col>&lt;dttm&gt;</th></tr>\n",
       "</thead>\n",
       "<tbody>\n",
       "\t<tr><th scope=row>1</th><td>A</td><td>Member</td><td>Female</td><td>Health and beauty     </td><td>74.69</td><td>7</td><td>26.1415</td><td>Ewallet    </td><td>522.83</td><td>26.1415</td><td>9.1</td><td>548.9715</td><td>2019-01-05 00:13:08</td></tr>\n",
       "\t<tr><th scope=row>2</th><td>C</td><td>Normal</td><td>Female</td><td>Electronic accessories</td><td>15.28</td><td>5</td><td> 3.8200</td><td>Cash       </td><td> 76.40</td><td> 3.8200</td><td>9.6</td><td> 80.2200</td><td>2019-03-08 00:10:29</td></tr>\n",
       "\t<tr><th scope=row>3</th><td>A</td><td>Normal</td><td>Male  </td><td>Home and lifestyle    </td><td>46.33</td><td>7</td><td>16.2155</td><td>Credit card</td><td>324.31</td><td>16.2155</td><td>7.4</td><td>340.5255</td><td>2019-03-03 00:13:23</td></tr>\n",
       "\t<tr><th scope=row>4</th><td>A</td><td>Member</td><td>Male  </td><td>Health and beauty     </td><td>58.22</td><td>8</td><td>23.2880</td><td>Ewallet    </td><td>465.76</td><td>23.2880</td><td>8.4</td><td>489.0480</td><td>2019-01-27 00:20:33</td></tr>\n",
       "\t<tr><th scope=row>5</th><td>A</td><td>Normal</td><td>Male  </td><td>Sports and travel     </td><td>86.31</td><td>7</td><td>30.2085</td><td>Ewallet    </td><td>604.17</td><td>30.2085</td><td>5.3</td><td>634.3785</td><td>2019-02-08 00:10:37</td></tr>\n",
       "\t<tr><th scope=row>6</th><td>C</td><td>Normal</td><td>Male  </td><td>Electronic accessories</td><td>85.39</td><td>7</td><td>29.8865</td><td>Ewallet    </td><td>597.73</td><td>29.8865</td><td>4.1</td><td>627.6165</td><td>2019-03-25 00:18:30</td></tr>\n",
       "</tbody>\n",
       "</table>\n"
      ],
      "text/latex": [
       "A data.frame: 6 × 13\n",
       "\\begin{tabular}{r|lllllllllllll}\n",
       "  & Branch & Customer.type & Gender & Product.line & Unit.price & Quantity & Tax & Payment & cogs & gross.income & Rating & Total & Date\\_time\\\\\n",
       "  & <fct> & <fct> & <fct> & <fct> & <dbl> & <int> & <dbl> & <fct> & <dbl> & <dbl> & <dbl> & <dbl> & <dttm>\\\\\n",
       "\\hline\n",
       "\t1 & A & Member & Female & Health and beauty      & 74.69 & 7 & 26.1415 & Ewallet     & 522.83 & 26.1415 & 9.1 & 548.9715 & 2019-01-05 00:13:08\\\\\n",
       "\t2 & C & Normal & Female & Electronic accessories & 15.28 & 5 &  3.8200 & Cash        &  76.40 &  3.8200 & 9.6 &  80.2200 & 2019-03-08 00:10:29\\\\\n",
       "\t3 & A & Normal & Male   & Home and lifestyle     & 46.33 & 7 & 16.2155 & Credit card & 324.31 & 16.2155 & 7.4 & 340.5255 & 2019-03-03 00:13:23\\\\\n",
       "\t4 & A & Member & Male   & Health and beauty      & 58.22 & 8 & 23.2880 & Ewallet     & 465.76 & 23.2880 & 8.4 & 489.0480 & 2019-01-27 00:20:33\\\\\n",
       "\t5 & A & Normal & Male   & Sports and travel      & 86.31 & 7 & 30.2085 & Ewallet     & 604.17 & 30.2085 & 5.3 & 634.3785 & 2019-02-08 00:10:37\\\\\n",
       "\t6 & C & Normal & Male   & Electronic accessories & 85.39 & 7 & 29.8865 & Ewallet     & 597.73 & 29.8865 & 4.1 & 627.6165 & 2019-03-25 00:18:30\\\\\n",
       "\\end{tabular}\n"
      ],
      "text/markdown": [
       "\n",
       "A data.frame: 6 × 13\n",
       "\n",
       "| <!--/--> | Branch &lt;fct&gt; | Customer.type &lt;fct&gt; | Gender &lt;fct&gt; | Product.line &lt;fct&gt; | Unit.price &lt;dbl&gt; | Quantity &lt;int&gt; | Tax &lt;dbl&gt; | Payment &lt;fct&gt; | cogs &lt;dbl&gt; | gross.income &lt;dbl&gt; | Rating &lt;dbl&gt; | Total &lt;dbl&gt; | Date_time &lt;dttm&gt; |\n",
       "|---|---|---|---|---|---|---|---|---|---|---|---|---|---|\n",
       "| 1 | A | Member | Female | Health and beauty      | 74.69 | 7 | 26.1415 | Ewallet     | 522.83 | 26.1415 | 9.1 | 548.9715 | 2019-01-05 00:13:08 |\n",
       "| 2 | C | Normal | Female | Electronic accessories | 15.28 | 5 |  3.8200 | Cash        |  76.40 |  3.8200 | 9.6 |  80.2200 | 2019-03-08 00:10:29 |\n",
       "| 3 | A | Normal | Male   | Home and lifestyle     | 46.33 | 7 | 16.2155 | Credit card | 324.31 | 16.2155 | 7.4 | 340.5255 | 2019-03-03 00:13:23 |\n",
       "| 4 | A | Member | Male   | Health and beauty      | 58.22 | 8 | 23.2880 | Ewallet     | 465.76 | 23.2880 | 8.4 | 489.0480 | 2019-01-27 00:20:33 |\n",
       "| 5 | A | Normal | Male   | Sports and travel      | 86.31 | 7 | 30.2085 | Ewallet     | 604.17 | 30.2085 | 5.3 | 634.3785 | 2019-02-08 00:10:37 |\n",
       "| 6 | C | Normal | Male   | Electronic accessories | 85.39 | 7 | 29.8865 | Ewallet     | 597.73 | 29.8865 | 4.1 | 627.6165 | 2019-03-25 00:18:30 |\n",
       "\n"
      ],
      "text/plain": [
       "  Branch Customer.type Gender Product.line           Unit.price Quantity\n",
       "1 A      Member        Female Health and beauty      74.69      7       \n",
       "2 C      Normal        Female Electronic accessories 15.28      5       \n",
       "3 A      Normal        Male   Home and lifestyle     46.33      7       \n",
       "4 A      Member        Male   Health and beauty      58.22      8       \n",
       "5 A      Normal        Male   Sports and travel      86.31      7       \n",
       "6 C      Normal        Male   Electronic accessories 85.39      7       \n",
       "  Tax     Payment     cogs   gross.income Rating Total    Date_time          \n",
       "1 26.1415 Ewallet     522.83 26.1415      9.1    548.9715 2019-01-05 00:13:08\n",
       "2  3.8200 Cash         76.40  3.8200      9.6     80.2200 2019-03-08 00:10:29\n",
       "3 16.2155 Credit card 324.31 16.2155      7.4    340.5255 2019-03-03 00:13:23\n",
       "4 23.2880 Ewallet     465.76 23.2880      8.4    489.0480 2019-01-27 00:20:33\n",
       "5 30.2085 Ewallet     604.17 30.2085      5.3    634.3785 2019-02-08 00:10:37\n",
       "6 29.8865 Ewallet     597.73 29.8865      4.1    627.6165 2019-03-25 00:18:30"
      ]
     },
     "metadata": {},
     "output_type": "display_data"
    }
   ],
   "source": [
    "# Dropping unnecessary column \n",
    "\n",
    "df <- df[,c(-1,-9,-10,-13)]\n",
    "head(df)"
   ]
  },
  {
   "cell_type": "markdown",
   "metadata": {},
   "source": [
    "# EDA"
   ]
  },
  {
   "cell_type": "markdown",
   "metadata": {},
   "source": [
    "## Univariate Analysis"
   ]
  },
  {
   "cell_type": "code",
   "execution_count": 15,
   "metadata": {},
   "outputs": [
    {
     "data": {
      "image/png": "[encoded data removed]",
      "text/plain": [
       "plot without title"
      ]
     },
     "metadata": {
      "image/png": {
       "height": 420,
       "width": 420
      },
      "text/plain": {
       "height": 420,
       "width": 420
      }
     },
     "output_type": "display_data"
    }
   ],
   "source": [
    "# Plotting all histograms in the continuous variables in our data \n",
    "  \n",
    "  plot_histogram(df)"
   ]
  },
  {
   "cell_type": "code",
   "execution_count": 16,
   "metadata": {},
   "outputs": [],
   "source": [
    "# Bar plots of the categorical/factor modes variables\n",
    "# par(mfrow=c(4,1))\n",
    "# for(i in 11:16) {\n",
    "# \tcounts <- table(unique_cust[,i])\n",
    "# \tname <- names(unique_cust)[i]\n",
    "# \tbarplot(counts, main=name, col = heat.colors(20))}"
   ]
  },
  {
   "cell_type": "code",
   "execution_count": 17,
   "metadata": {},
   "outputs": [
    {
     "data": {
      "text/html": [
       "<table>\n",
       "<caption>A data.frame: 6 × 7</caption>\n",
       "<thead>\n",
       "\t<tr><th></th><th scope=col>Unit.price</th><th scope=col>Quantity</th><th scope=col>Tax</th><th scope=col>cogs</th><th scope=col>gross.income</th><th scope=col>Rating</th><th scope=col>Total</th></tr>\n",
       "\t<tr><th></th><th scope=col>&lt;dbl&gt;</th><th scope=col>&lt;int&gt;</th><th scope=col>&lt;dbl&gt;</th><th scope=col>&lt;dbl&gt;</th><th scope=col>&lt;dbl&gt;</th><th scope=col>&lt;dbl&gt;</th><th scope=col>&lt;dbl&gt;</th></tr>\n",
       "</thead>\n",
       "<tbody>\n",
       "\t<tr><th scope=row>1</th><td>74.69</td><td>7</td><td>26.1415</td><td>522.83</td><td>26.1415</td><td>9.1</td><td>548.9715</td></tr>\n",
       "\t<tr><th scope=row>2</th><td>15.28</td><td>5</td><td> 3.8200</td><td> 76.40</td><td> 3.8200</td><td>9.6</td><td> 80.2200</td></tr>\n",
       "\t<tr><th scope=row>3</th><td>46.33</td><td>7</td><td>16.2155</td><td>324.31</td><td>16.2155</td><td>7.4</td><td>340.5255</td></tr>\n",
       "\t<tr><th scope=row>4</th><td>58.22</td><td>8</td><td>23.2880</td><td>465.76</td><td>23.2880</td><td>8.4</td><td>489.0480</td></tr>\n",
       "\t<tr><th scope=row>5</th><td>86.31</td><td>7</td><td>30.2085</td><td>604.17</td><td>30.2085</td><td>5.3</td><td>634.3785</td></tr>\n",
       "\t<tr><th scope=row>6</th><td>85.39</td><td>7</td><td>29.8865</td><td>597.73</td><td>29.8865</td><td>4.1</td><td>627.6165</td></tr>\n",
       "</tbody>\n",
       "</table>\n"
      ],
      "text/latex": [
       "A data.frame: 6 × 7\n",
       "\\begin{tabular}{r|lllllll}\n",
       "  & Unit.price & Quantity & Tax & cogs & gross.income & Rating & Total\\\\\n",
       "  & <dbl> & <int> & <dbl> & <dbl> & <dbl> & <dbl> & <dbl>\\\\\n",
       "\\hline\n",
       "\t1 & 74.69 & 7 & 26.1415 & 522.83 & 26.1415 & 9.1 & 548.9715\\\\\n",
       "\t2 & 15.28 & 5 &  3.8200 &  76.40 &  3.8200 & 9.6 &  80.2200\\\\\n",
       "\t3 & 46.33 & 7 & 16.2155 & 324.31 & 16.2155 & 7.4 & 340.5255\\\\\n",
       "\t4 & 58.22 & 8 & 23.2880 & 465.76 & 23.2880 & 8.4 & 489.0480\\\\\n",
       "\t5 & 86.31 & 7 & 30.2085 & 604.17 & 30.2085 & 5.3 & 634.3785\\\\\n",
       "\t6 & 85.39 & 7 & 29.8865 & 597.73 & 29.8865 & 4.1 & 627.6165\\\\\n",
       "\\end{tabular}\n"
      ],
      "text/markdown": [
       "\n",
       "A data.frame: 6 × 7\n",
       "\n",
       "| <!--/--> | Unit.price &lt;dbl&gt; | Quantity &lt;int&gt; | Tax &lt;dbl&gt; | cogs &lt;dbl&gt; | gross.income &lt;dbl&gt; | Rating &lt;dbl&gt; | Total &lt;dbl&gt; |\n",
       "|---|---|---|---|---|---|---|---|\n",
       "| 1 | 74.69 | 7 | 26.1415 | 522.83 | 26.1415 | 9.1 | 548.9715 |\n",
       "| 2 | 15.28 | 5 |  3.8200 |  76.40 |  3.8200 | 9.6 |  80.2200 |\n",
       "| 3 | 46.33 | 7 | 16.2155 | 324.31 | 16.2155 | 7.4 | 340.5255 |\n",
       "| 4 | 58.22 | 8 | 23.2880 | 465.76 | 23.2880 | 8.4 | 489.0480 |\n",
       "| 5 | 86.31 | 7 | 30.2085 | 604.17 | 30.2085 | 5.3 | 634.3785 |\n",
       "| 6 | 85.39 | 7 | 29.8865 | 597.73 | 29.8865 | 4.1 | 627.6165 |\n",
       "\n"
      ],
      "text/plain": [
       "  Unit.price Quantity Tax     cogs   gross.income Rating Total   \n",
       "1 74.69      7        26.1415 522.83 26.1415      9.1    548.9715\n",
       "2 15.28      5         3.8200  76.40  3.8200      9.6     80.2200\n",
       "3 46.33      7        16.2155 324.31 16.2155      7.4    340.5255\n",
       "4 58.22      8        23.2880 465.76 23.2880      8.4    489.0480\n",
       "5 86.31      7        30.2085 604.17 30.2085      5.3    634.3785\n",
       "6 85.39      7        29.8865 597.73 29.8865      4.1    627.6165"
      ]
     },
     "metadata": {},
     "output_type": "display_data"
    }
   ],
   "source": [
    "# Selecting the numerical data \n",
    " \n",
    "numericals <- df[,c(5,6,7,9:12)]\n",
    "head(numericals)"
   ]
  },
  {
   "cell_type": "code",
   "execution_count": 18,
   "metadata": {},
   "outputs": [
    {
     "data": {
      "text/plain": [
       "NULL"
      ]
     },
     "metadata": {},
     "output_type": "display_data"
    }
   ],
   "source": [
    "unique(df$gross.margin.percentage)"
   ]
  },
  {
   "cell_type": "code",
   "execution_count": 19,
   "metadata": {},
   "outputs": [
    {
     "data": {
      "text/plain": [
       "Importance of components:\n",
       "                          PC1    PC2    PC3     PC4       PC5       PC6\n",
       "Standard deviation     2.2185 1.0002 0.9939 0.30001 3.132e-16 1.457e-16\n",
       "Proportion of Variance 0.7031 0.1429 0.1411 0.01286 0.000e+00 0.000e+00\n",
       "Cumulative Proportion  0.7031 0.8460 0.9871 1.00000 1.000e+00 1.000e+00\n",
       "                             PC7\n",
       "Standard deviation     3.219e-17\n",
       "Proportion of Variance 0.000e+00\n",
       "Cumulative Proportion  1.000e+00"
      ]
     },
     "metadata": {},
     "output_type": "display_data"
    }
   ],
   "source": [
    "# We then pass df to the prcomp(). We also set two arguments, center and scale, \n",
    "# to be TRUE then preview our object with summary\n",
    "# ---\n",
    "# \n",
    "df.pca <- prcomp(df[,c(5,6,7,9:12)], center = TRUE, scale. = TRUE)\n",
    "summary(df.pca)\n"
   ]
  },
  {
   "cell_type": "markdown",
   "metadata": {},
   "source": [
    "We obtain 7 principal components,which explain a percentate of the total variation of the dataset.\n",
    "PC1 explains 70% of the total variance, which means that more than two-thirds \n",
    "of the information in the dataset (7 variables) can be encapsulated \n",
    "by just that one Principal Component. "
   ]
  },
  {
   "cell_type": "code",
   "execution_count": 20,
   "metadata": {},
   "outputs": [
    {
     "name": "stdout",
     "output_type": "stream",
     "text": [
      "List of 5\n",
      " $ sdev    : num [1:7] 2.22 1.00 9.94e-01 3.00e-01 3.13e-16 ...\n",
      " $ rotation: num [1:7, 1:7] -0.292 -0.325 -0.45 -0.45 -0.45 ...\n",
      "  ..- attr(*, \"dimnames\")=List of 2\n",
      "  .. ..$ : chr [1:7] \"Unit.price\" \"Quantity\" \"Tax\" \"cogs\" ...\n",
      "  .. ..$ : chr [1:7] \"PC1\" \"PC2\" \"PC3\" \"PC4\" ...\n",
      " $ center  : Named num [1:7] 55.67 5.51 15.38 307.59 15.38 ...\n",
      "  ..- attr(*, \"names\")= chr [1:7] \"Unit.price\" \"Quantity\" \"Tax\" \"cogs\" ...\n",
      " $ scale   : Named num [1:7] 26.49 2.92 11.71 234.18 11.71 ...\n",
      "  ..- attr(*, \"names\")= chr [1:7] \"Unit.price\" \"Quantity\" \"Tax\" \"cogs\" ...\n",
      " $ x       : num [1:1000, 1:7] -2.005 2.306 -0.186 -1.504 -2.8 ...\n",
      "  ..- attr(*, \"dimnames\")=List of 2\n",
      "  .. ..$ : NULL\n",
      "  .. ..$ : chr [1:7] \"PC1\" \"PC2\" \"PC3\" \"PC4\" ...\n",
      " - attr(*, \"class\")= chr \"prcomp\"\n"
     ]
    }
   ],
   "source": [
    "str(df.pca)"
   ]
  },
  {
   "cell_type": "code",
   "execution_count": 21,
   "metadata": {},
   "outputs": [
    {
     "data": {
      "image/png": "[encoded data removed]",
      "text/plain": [
       "Plot with title “df.pca”"
      ]
     },
     "metadata": {
      "image/png": {
       "height": 420,
       "width": 420
      },
      "text/plain": {
       "height": 420,
       "width": 420
      }
     },
     "output_type": "display_data"
    }
   ],
   "source": [
    "plot(df.pca, type=\"l\")\n"
   ]
  },
  {
   "cell_type": "markdown",
   "metadata": {},
   "source": [
    "we can see that pca 1 explains most of our total variances. pca 2 and 3 explain 14% of our total variances each."
   ]
  },
  {
   "cell_type": "code",
   "execution_count": 22,
   "metadata": {},
   "outputs": [
    {
     "name": "stderr",
     "output_type": "stream",
     "text": [
      "Updating HTML index of packages in '.Library'\n",
      "\n",
      "Making 'packages.html' ...\n",
      " done\n",
      "\n",
      "Loading required package: usethis\n",
      "\n",
      "Downloading GitHub repo vqv/ggbiplot@master\n",
      "\n",
      "Warning message in system(cmd):\n",
      "“error in running command”\n",
      "Warning message in utils::untar(tarfile, ...):\n",
      "“‘/bin/gtar -xf '/tmp/RtmpXAjca2/file4136ed5d89d.tar.gz' -C '/tmp/RtmpXAjca2/remotes41367520573e'’ returned error code 127”\n"
     ]
    },
    {
     "ename": "ERROR",
     "evalue": "Error: Failed to install 'ggbiplot' from GitHub:\n  error in running command\n",
     "output_type": "error",
     "traceback": [
      "Error: Failed to install 'ggbiplot' from GitHub:\n  error in running command\nTraceback:\n",
      "1. install_github(\"vqv/ggbiplot\", force = TRUE)",
      "2. pkgbuild::with_build_tools({\n .     ellipsis::check_dots_used(action = getOption(\"devtools.ellipsis_action\", \n .         rlang::warn))\n .     {\n .         remotes <- lapply(repo, github_remote, ref = ref, subdir = subdir, \n .             auth_token = auth_token, host = host)\n .         install_remotes(remotes, auth_token = auth_token, host = host, \n .             dependencies = dependencies, upgrade = upgrade, force = force, \n .             quiet = quiet, build = build, build_opts = build_opts, \n .             build_manual = build_manual, build_vignettes = build_vignettes, \n .             repos = repos, type = type, ...)\n .     }\n . }, required = FALSE)",
      "3. install_remotes(remotes, auth_token = auth_token, host = host, \n .     dependencies = dependencies, upgrade = upgrade, force = force, \n .     quiet = quiet, build = build, build_opts = build_opts, build_manual = build_manual, \n .     build_vignettes = build_vignettes, repos = repos, type = type, \n .     ...)",
      "4. tryCatch(res[[i]] <- install_remote(remotes[[i]], ...), error = function(e) {\n .     stop(remote_install_error(remotes[[i]], e))\n . })",
      "5. tryCatchList(expr, classes, parentenv, handlers)",
      "6. tryCatchOne(expr, names, parentenv, handlers[[1L]])",
      "7. value[[3L]](cond)"
     ]
    }
   ],
   "source": [
    "# We will now plot our pca.\n",
    "\n",
    "# Installing our ggbiplot visualisation package\n",
    "# \n",
    "install.packages(\"devtools\",dependencies=TRUE)\n",
    "library(devtools)\n",
    "install_github(\"vqv/ggbiplot\", force = TRUE)\n",
    "library(ggbiplot)\n",
    "ggbiplot(df.pca)\n"
   ]
  },
  {
   "cell_type": "markdown",
   "metadata": {},
   "source": [
    "We will now go ahead and compare our PCA results to tSNE."
   ]
  },
  {
   "cell_type": "code",
   "execution_count": 23,
   "metadata": {},
   "outputs": [
    {
     "name": "stdout",
     "output_type": "stream",
     "text": [
      "Performing PCA\n",
      "Read the 1000 x 7 data matrix successfully!\n",
      "OpenMP is working. 1 threads.\n",
      "Using no_dims = 2, perplexity = 30.000000, and theta = 0.500000\n",
      "Computing input similarities...\n",
      "Building tree...\n",
      "Done in 0.10 seconds (sparsity = 0.101258)!\n",
      "Learning embedding...\n",
      "Iteration 50: error is 58.282930 (50 iterations in 0.20 seconds)\n",
      "Iteration 100: error is 51.409103 (50 iterations in 0.18 seconds)\n",
      "Iteration 150: error is 50.243002 (50 iterations in 0.13 seconds)\n",
      "Iteration 200: error is 49.760909 (50 iterations in 0.14 seconds)\n",
      "Iteration 250: error is 49.548535 (50 iterations in 0.14 seconds)\n",
      "Iteration 300: error is 0.567438 (50 iterations in 0.13 seconds)\n",
      "Iteration 350: error is 0.401304 (50 iterations in 0.13 seconds)\n",
      "Iteration 400: error is 0.355879 (50 iterations in 0.13 seconds)\n",
      "Iteration 450: error is 0.339847 (50 iterations in 0.13 seconds)\n",
      "Iteration 500: error is 0.329051 (50 iterations in 0.13 seconds)\n",
      "Fitting performed in 1.45 seconds.\n"
     ]
    }
   ],
   "source": [
    "# # Executing the algorithm on curated data\n",
    "\n",
    "tsne <- Rtsne(numericals, dims =2, perplexity = 30, verbosity = TRUE,\n",
    "      max_iter = 500)\n",
    "\n",
    "# getting the time it takes to execute\n",
    "\n",
    "exeTimeTsne <- system.time(Rtsne(numericals, dims = 2, perplexity = 30,\n",
    "verbose = TRUE, max_iter = 500))"
   ]
  },
  {
   "cell_type": "code",
   "execution_count": 24,
   "metadata": {},
   "outputs": [
    {
     "ename": "ERROR",
     "evalue": "Error in `$<-.data.frame`(`*tmp*`, Product.line, value = structure(integer(0), .Label = character(0), class = \"factor\")): replacement has 0 rows, data has 1000\n",
     "output_type": "error",
     "traceback": [
      "Error in `$<-.data.frame`(`*tmp*`, Product.line, value = structure(integer(0), .Label = character(0), class = \"factor\")): replacement has 0 rows, data has 1000\nTraceback:\n",
      "1. `$<-`(`*tmp*`, Product.line, value = structure(integer(0), .Label = character(0), class = \"factor\"))",
      "2. `$<-.data.frame`(`*tmp*`, Product.line, value = structure(integer(0), .Label = character(0), class = \"factor\"))",
      "3. stop(sprintf(ngettext(N, \"replacement has %d row, data has %d\", \n .     \"replacement has %d rows, data has %d\"), N, nrows), domain = NA)"
     ]
    }
   ],
   "source": [
    "# Curating the database for analysis \n",
    "# \n",
    "labels <- df$Product.line\n",
    "df$Product.line<-as.factor(df$product.line)\n",
    "\n",
    "# For plotting\n",
    "#\n",
    "colors = rainbow(length(df$Product.line))\n",
    "names(colors) = unique(df$Product.line)\n",
    "# Plotting our graph and closely examining the graph\n",
    "\n",
    "plot(tsne$Y, t = 'n', main = \"tnse\")\n",
    "text(tsne$Y, labels =df$Product.line, col = \"magenta\")\n"
   ]
  },
  {
   "cell_type": "markdown",
   "metadata": {},
   "source": [
    "## Feature Selection"
   ]
  },
  {
   "cell_type": "code",
   "execution_count": 27,
   "metadata": {},
   "outputs": [],
   "source": [
    "# Calculating the correlation matrix\n",
    "# ---\n",
    "#\n",
    "correlationMatrix <- cor(numericals)"
   ]
  },
  {
   "cell_type": "code",
   "execution_count": 28,
   "metadata": {},
   "outputs": [],
   "source": [
    "# Find attributes that are highly correlated\n",
    "# ---\n",
    "#\n",
    "highlyCorrelated <- findCorrelation(correlationMatrix, cutoff=0.75)"
   ]
  },
  {
   "cell_type": "code",
   "execution_count": 29,
   "metadata": {},
   "outputs": [
    {
     "data": {
      "text/html": [
       "<style>\n",
       ".list-inline {list-style: none; margin:0; padding: 0}\n",
       ".list-inline>li {display: inline-block}\n",
       ".list-inline>li:not(:last-child)::after {content: \"\\00b7\"; padding: 0 .5ex}\n",
       "</style>\n",
       "<ol class=list-inline><li>4</li><li>7</li><li>3</li></ol>\n"
      ],
      "text/latex": [
       "\\begin{enumerate*}\n",
       "\\item 4\n",
       "\\item 7\n",
       "\\item 3\n",
       "\\end{enumerate*}\n"
      ],
      "text/markdown": [
       "1. 4\n",
       "2. 7\n",
       "3. 3\n",
       "\n",
       "\n"
      ],
      "text/plain": [
       "[1] 4 7 3"
      ]
     },
     "metadata": {},
     "output_type": "display_data"
    },
    {
     "data": {
      "text/html": [
       "<style>\n",
       ".list-inline {list-style: none; margin:0; padding: 0}\n",
       ".list-inline>li {display: inline-block}\n",
       ".list-inline>li:not(:last-child)::after {content: \"\\00b7\"; padding: 0 .5ex}\n",
       "</style>\n",
       "<ol class=list-inline><li>'cogs'</li><li>'Total'</li><li>'Tax'</li></ol>\n"
      ],
      "text/latex": [
       "\\begin{enumerate*}\n",
       "\\item 'cogs'\n",
       "\\item 'Total'\n",
       "\\item 'Tax'\n",
       "\\end{enumerate*}\n"
      ],
      "text/markdown": [
       "1. 'cogs'\n",
       "2. 'Total'\n",
       "3. 'Tax'\n",
       "\n",
       "\n"
      ],
      "text/plain": [
       "[1] \"cogs\"  \"Total\" \"Tax\"  "
      ]
     },
     "metadata": {},
     "output_type": "display_data"
    }
   ],
   "source": [
    "# Highly correlated attributes\n",
    "# ---\n",
    "# \n",
    "highlyCorrelated\n",
    "\n",
    "names(numericals[,highlyCorrelated])"
   ]
  },
  {
   "cell_type": "code",
   "execution_count": 30,
   "metadata": {},
   "outputs": [],
   "source": [
    "# Removing Redundant Features \n",
    "# ---\n",
    "# \n",
    "drop <-numericals[-highlyCorrelated]"
   ]
  }
 ],
 "metadata": {
  "kernelspec": {
   "display_name": "R",
   "language": "R",
   "name": "ir"
  },
  "language_info": {
   "codemirror_mode": "r",
   "file_extension": ".r",
   "mimetype": "text/x-r-source",
   "name": "R",
   "pygments_lexer": "r",
   "version": "3.6.1"
  }
 },
 "nbformat": 4,
 "nbformat_minor": 4
}
